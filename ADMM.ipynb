{
 "cells": [
  {
   "cell_type": "code",
   "execution_count": null,
   "outputs": [],
   "source": [
    "import numpy as np\n",
    "import numpy.linalg as LA\n",
    "import matplotlib.pyplot as plt"
   ],
   "metadata": {
    "collapsed": false
   }
  },
  {
   "cell_type": "code",
   "execution_count": null,
   "outputs": [],
   "source": [
    "# Simple matrices trail\n",
    "\n",
    "C = np.array([[-1, 1, 1, 0, 0, 8], [1, 0, -6, 0, 4, 0]])\n",
    "d = np.array([[-7], [5]])\n",
    "epsilon = 0.2\n",
    "r_init = np.array([[0], [0]])\n",
    "omg_init = np.array([[0], [0], [0], [0], [0], [0]])\n",
    "y_init = np.array([[0], [0]])\n",
    "mu = 0.1\n",
    "tau = 0.01"
   ],
   "metadata": {
    "collapsed": false
   }
  },
  {
   "cell_type": "code",
   "execution_count": 164,
   "outputs": [],
   "source": [
    "def soft_thresholding(x, threshold):\n",
    "    '''\n",
    "    Parameters\n",
    "    ----------\n",
    "    x : TYPE\n",
    "        np.array.\n",
    "    threshold : TYPE\n",
    "        float.\n",
    "\n",
    "    Returns\n",
    "    -------\n",
    "    TYPE\n",
    "        np.array.\n",
    "\n",
    "    '''\n",
    "    return np.sign(x) * np.maximum(np.abs(x) - threshold, 0)\n",
    "\n",
    "def projection_operator(x, epsilon):\n",
    "    '''\n",
    "    Parameters\n",
    "    ----------\n",
    "    x : TYPE\n",
    "        np.array.\n",
    "    epsilon : TYPE\n",
    "        float.\n",
    "\n",
    "    Returns\n",
    "    -------\n",
    "    TYPE\n",
    "        np.array.\n",
    "\n",
    "    '''\n",
    "    if LA.norm(x, 2) <= epsilon:\n",
    "        return x\n",
    "    else:\n",
    "        return epsilon * x / LA.norm(x, 2)\n",
    "\n",
    "def r_update(omega, y):\n",
    "    '''\n",
    "    Parameters\n",
    "    ----------\n",
    "    r : TYPE\n",
    "        DESCRIPTION.\n",
    "    omega : TYPE\n",
    "        DESCRIPTION.\n",
    "    y : TYPE\n",
    "        DESCRIPTION.\n",
    "\n",
    "    Returns\n",
    "    -------\n",
    "    TYPE\n",
    "        DESCRIPTION.\n",
    "    '''\n",
    "\n",
    "    temp_r = np.matmul(C, omega) + d - y / mu\n",
    "\n",
    "    return projection_operator(temp_r, epsilon)\n",
    "\n",
    "def omega_update(r, omega, y):\n",
    "    '''\n",
    "    Parameters\n",
    "    ----------\n",
    "    r : TYPE\n",
    "        DESCRIPTION.\n",
    "    omega : TYPE\n",
    "        DESCRIPTION.\n",
    "    y : TYPE\n",
    "        DESCRIPTION.\n",
    "\n",
    "    Returns\n",
    "    -------\n",
    "    TYPE\n",
    "        DESCRIPTION.\n",
    "    '''\n",
    "    grad = np.matmul(C.T, np.matmul(C, omega) + d - r - y / mu)\n",
    "    temp_omg = omega - tau * grad\n",
    "\n",
    "    return soft_thresholding(temp_omg, tau / mu)\n",
    "\n",
    "def y_update(r, omega, y):\n",
    "    '''\n",
    "    Parameters\n",
    "    ----------\n",
    "    r : TYPE\n",
    "        DESCRIPTION.\n",
    "    omega : TYPE\n",
    "        DESCRIPTION.\n",
    "    y : TYPE\n",
    "        DESCRIPTION.\n",
    "\n",
    "    Returns\n",
    "    -------\n",
    "    TYPE\n",
    "        DESCRIPTION.\n",
    "\n",
    "    '''\n",
    "    y_temp = np.matmul(C, omega) + d - r\n",
    "    gap = LA.norm(y_temp, 2)\n",
    "\n",
    "    return gap, y - mu * y_temp\n",
    "\n",
    "def iteration(criteria, max_time, plotting = True):\n",
    "    '''\n",
    "    :param criteria: Error permitted for dual gap\n",
    "    :param max_time: Maximal numbers of iterations permitted\n",
    "    :return: Final results of three variables\n",
    "    '''\n",
    "    r = r_init\n",
    "    omega = omg_init\n",
    "    y = y_init\n",
    "    it = 0\n",
    "    gap = 1e+6\n",
    "    it_list = []\n",
    "    ob1_list = []\n",
    "    ob2_list = []\n",
    "\n",
    "    while (it < max_time) & (gap > criteria):\n",
    "\n",
    "        r = r_update(omega, y)\n",
    "        omega = omega_update(r, omega, y)\n",
    "        gap, y = y_update(r, omega, y)\n",
    "\n",
    "        it += 1\n",
    "\n",
    "        print(f\"Dual gap at {it} iteration is {gap}\")\n",
    "        if plotting:\n",
    "            obj1 = LA.norm(np.matmul(C, omega) + d ,2)\n",
    "            obj2 = LA.norm(omega, 1)\n",
    "            it_list.append(it)\n",
    "            ob1_list.append(obj1)\n",
    "            ob2_list.append(obj2)\n",
    "\n",
    "    print(f\"{it} iterations in total to convergent under criteria {criteria}\")\n",
    "    if plotting:\n",
    "        fig, (ax1, ax2) = plt.subplots(1, 2, figsize = (18, 7))\n",
    "        ax1.plot(it_list, ob1_list)\n",
    "        ax2.plot(it_list, ob2_list)\n",
    "        ax1.set_title('L2 objective value')\n",
    "        ax2.set_title('L1 Regularization objective value')\n",
    "\n",
    "    return r, omega, y"
   ],
   "metadata": {
    "collapsed": false,
    "ExecuteTime": {
     "end_time": "2023-06-20T17:48:23.170761600Z",
     "start_time": "2023-06-20T17:48:23.157252300Z"
    }
   }
  },
  {
   "cell_type": "code",
   "execution_count": 165,
   "outputs": [
    {
     "name": "stdout",
     "output_type": "stream",
     "text": [
      "Dual gap at 1 iteration is 4.171879831342297\n",
      "Dual gap at 2 iteration is 0.6091273632173927\n",
      "Dual gap at 3 iteration is 1.2938998882018782\n",
      "Dual gap at 4 iteration is 0.9758941279304989\n",
      "Dual gap at 5 iteration is 0.4211184216174799\n",
      "Dual gap at 6 iteration is 0.19994160832977992\n",
      "Dual gap at 7 iteration is 0.17954143784398044\n",
      "Dual gap at 8 iteration is 0.12588860559249407\n",
      "Dual gap at 9 iteration is 0.07911707210652134\n",
      "Dual gap at 10 iteration is 0.03898009845703867\n",
      "Dual gap at 11 iteration is 0.019516303099567183\n",
      "Dual gap at 12 iteration is 0.08722993050794335\n",
      "Dual gap at 13 iteration is 0.14669936282425577\n",
      "Dual gap at 14 iteration is 0.1316736607447452\n",
      "Dual gap at 15 iteration is 0.0779138792425403\n",
      "Dual gap at 16 iteration is 0.019929849034504718\n",
      "Dual gap at 17 iteration is 0.02258525550482807\n",
      "Dual gap at 18 iteration is 0.0403515417603298\n",
      "Dual gap at 19 iteration is 0.03817598207481416\n",
      "Dual gap at 20 iteration is 0.024421708104016483\n",
      "Dual gap at 21 iteration is 0.00804685648041263\n",
      "Dual gap at 22 iteration is 0.004738355994188368\n",
      "22 iterations in total to convergent under criteria 0.005\n"
     ]
    },
    {
     "data": {
      "text/plain": "<Figure size 1296x504 with 2 Axes>",
      "image/png": "[encoded data removed]"
     },
     "metadata": {
      "needs_background": "light"
     },
     "output_type": "display_data"
    }
   ],
   "source": [
    "r_result, omega_result, y_result = iteration(0.005, 500)"
   ],
   "metadata": {
    "collapsed": false,
    "ExecuteTime": {
     "end_time": "2023-06-20T17:48:24.199031200Z",
     "start_time": "2023-06-20T17:48:24.047709Z"
    }
   }
  },
  {
   "cell_type": "code",
   "execution_count": null,
   "outputs": [],
   "source": [
    "# Demonstrate sparsity\n",
    "\n",
    "print(omega_result)"
   ],
   "metadata": {
    "collapsed": false
   }
  },
  {
   "cell_type": "code",
   "execution_count": 161,
   "outputs": [],
   "source": [
    "# Simple 2-dimensional finite Random-Walk\n",
    "\n",
    "# Set a random seed for reproducibility\n",
    "# np.random.seed(42)\n",
    "\n",
    "# Generate 5 random numbers\n",
    "random_states = np.random.choice([0, 1, 2], size = (10, 2))\n",
    "\n",
    "# Simulate for next transition\n",
    "state_len = 3\n",
    "upper = 2\n",
    "lower = 0\n",
    "\n",
    "def transition_rule(state, dim = 2):\n",
    "\n",
    "    transition = np.array([[0, 1], [1, 0], [0, -1], [-1, 0]])\n",
    "    state_list = []\n",
    "\n",
    "    for i in range(dim):\n",
    "        if ((state[i] != 0) & (state[i] != 2)).all():\n",
    "            state_list.append(True)\n",
    "        else:\n",
    "            state_list.append(False)\n",
    "\n",
    "    if all(state_list):\n",
    "        random_index = np.random.randint(0, len(transition))\n",
    "        state += transition[random_index]\n",
    "    else:\n",
    "        random_index = np.random.randint(0, len(transition))\n",
    "        state_m = state + transition[random_index]\n",
    "        state = np.clip(state_m, 0, 2)\n",
    "\n",
    "    return state\n",
    "\n",
    "def step(states):\n",
    "\n",
    "    new_states = []\n",
    "    for i, element in enumerate(states):\n",
    "\n",
    "        next_position = transition_rule(element)\n",
    "        new_states.append(next_position)\n",
    "\n",
    "    return np.array(new_states)\n",
    "\n",
    "new_states = step(random_states)\n",
    "\n",
    "# Construct Polynomial feature function\n",
    "def poly_feature(state):\n",
    "\n",
    "    x = []\n",
    "    s1 = state[0]\n",
    "    s2 = state[1]\n",
    "    for i in range(state_len):\n",
    "        for j in range(state_len):\n",
    "            x.append(s1 ** i * s2 ** j)\n",
    "\n",
    "    return np.array(x)\n",
    "\n",
    "# Immediate reward\n",
    "def reward_rule(cur_state, next_state):\n",
    "\n",
    "    if next_state[0] - cur_state[0] == 1:\n",
    "        return 2\n",
    "    elif next_state[1] - cur_state[1] == 1:\n",
    "        return 3\n",
    "    else:\n",
    "        return -1\n",
    "\n",
    "def reward_gene(states, states_next):\n",
    "\n",
    "    R = []\n",
    "    for i in range(states.shape[0]):\n",
    "        R.append(reward_rule(states[i], states_next[i]))\n",
    "\n",
    "    return np.array(R)\n",
    "\n",
    "R = reward_gene(random_states, new_states)\n",
    "\n",
    "# Construct matrices (pseudo-inverse matrix will be applied)\n",
    "def projection(phi):\n",
    "\n",
    "    return np.dot(phi.T, LA.pinv(np.dot(phi.T, phi))).dot(phi)\n",
    "\n",
    "def matrix_const(pi, R, phi, phi_next, gamma):\n",
    "\n",
    "    return gamma * np.matmul(pi, phi_next) - phi, np.matmul(pi, R)\n",
    "\n",
    "def var_init(C_tilde, d_tilde):\n",
    "\n",
    "    r_init = np.zeros_like(d_tilde)\n",
    "    omg_init = np.zeros(1, C_tilde.shape[1])\n",
    "    y_init = np.zeros_like(d_tilde)\n",
    "\n",
    "    return r_init, omg_init, y_init"
   ],
   "metadata": {
    "collapsed": false,
    "ExecuteTime": {
     "end_time": "2023-06-20T17:43:41.967380700Z",
     "start_time": "2023-06-20T17:43:41.964378300Z"
    }
   }
  },
  {
   "cell_type": "code",
   "execution_count": 162,
   "outputs": [
    {
     "data": {
      "text/plain": "array([-1, -1, -1, -1, -1, -1, -1, -1, -1,  2])"
     },
     "execution_count": 162,
     "metadata": {},
     "output_type": "execute_result"
    }
   ],
   "source": [
    "R"
   ],
   "metadata": {
    "collapsed": false,
    "ExecuteTime": {
     "end_time": "2023-06-20T17:43:45.045603Z",
     "start_time": "2023-06-20T17:43:45.028451600Z"
    }
   }
  },
  {
   "cell_type": "code",
   "execution_count": null,
   "outputs": [],
   "source": [],
   "metadata": {
    "collapsed": false
   }
  }
 ],
 "metadata": {
  "kernelspec": {
   "display_name": "Python 3",
   "language": "python",
   "name": "python3"
  },
  "language_info": {
   "codemirror_mode": {
    "name": "ipython",
    "version": 2
   },
   "file_extension": ".py",
   "mimetype": "text/x-python",
   "name": "python",
   "nbconvert_exporter": "python",
   "pygments_lexer": "ipython2",
   "version": "2.7.6"
  }
 },
 "nbformat": 4,
 "nbformat_minor": 0
}
